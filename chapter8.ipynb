{
  "cells": [
    {
      "cell_type": "markdown",
      "metadata": {
        "id": "bBcbSYVR4i6e"
      },
      "source": [
        "### BadNets"
      ]
    },
    {
      "cell_type": "code",
      "execution_count": 1,
      "metadata": {
        "id": "_wyb9Eg64kXa"
      },
      "outputs": [],
      "source": [
        "import numpy as np\n",
        "import tensorflow as tf\n",
        "tf.compat.v1.disable_eager_execution()\n",
        "from tensorflow.keras.layers import Conv2D, Dense, Flatten, MaxPooling2D, Dropout\n",
        "from tensorflow.keras.models import Sequential\n",
        "from tensorflow.keras.losses import categorical_crossentropy\n",
        "from tensorflow.keras.optimizers import Adam\n",
        "\n",
        "# ラッパーおよびユーティリティをインポートする\n",
        "from art.estimators.classification.keras import KerasClassifier\n",
        "from art.utils import load_mnist, preprocess\n",
        "\n",
        "# MNISTデータセットをロードする\n",
        "# 今回は正規化される前のデータを加工するため、raw=Trueとする\n",
        "(X_train_raw, y_train_raw), (X_test_raw, y_test_raw), \\\n",
        "    min_pixel_value, max_pixel_value = load_mnist(raw=True)\n",
        "nb_classes=10\n",
        "\n",
        "# 攻撃手法をインポートする\n",
        "from art.attacks.poisoning import PoisoningAttackBackdoor\n",
        "from art.attacks.poisoning.perturbations import add_pattern_bd\n",
        "\n",
        "# 画像の右下にトリガーを埋め込む\n",
        "max_val = np.max(X_train_raw)\n",
        "def add_modification(x):\n",
        "    return add_pattern_bd(x, pixel_value=max_val)\n",
        "\n",
        "# データセットを汚染する\n",
        "def poison_dataset(X_clean, y_clean, percent_poison, poison_func):\n",
        "    X_poison = np.copy(X_clean)\n",
        "    y_poison = np.copy(y_clean)\n",
        "    is_poison = np.zeros(np.shape(y_poison))\n",
        "    \n",
        "    sources=np.arange(nb_classes)\n",
        "    targets=(np.arange(nb_classes) + 1) % nb_classes\n",
        "\n",
        "    # 訓練データから汚染対象のデータを選択し、ノイズを加える\n",
        "    for i, (src, tgt) in enumerate(zip(sources, targets)):\n",
        "        n_points_in_tgt = np.size(np.where(y_clean == tgt))\n",
        "        num_poison = round((percent_poison * n_points_in_tgt)\n",
        "                           / (1 - percent_poison))\n",
        "\n",
        "        src_imgs = X_clean[y_clean == src]\n",
        "\n",
        "        n_points_in_src = np.shape(src_imgs)[0]\n",
        "        indices_to_be_poisoned = np.random.choice(n_points_in_src, \n",
        "                                                  num_poison)\n",
        "\n",
        "        imgs_to_be_poisoned = np.copy(src_imgs[indices_to_be_poisoned])\n",
        "\n",
        "        # 攻撃を初期化する\n",
        "        attack = PoisoningAttackBackdoor(add_modification)\n",
        "        \n",
        "        # 攻撃を実行する\n",
        "        imgs_to_be_poisoned, poison_labels = \\\n",
        "        attack.poison(imgs_to_be_poisoned, y=np.ones(num_poison) * tgt)\n",
        "        \n",
        "        X_poison = np.append(X_poison, imgs_to_be_poisoned, axis=0)\n",
        "        y_poison = np.append(y_poison, poison_labels, axis=0)\n",
        "        is_poison = np.append(is_poison, np.ones(num_poison))\n",
        "\n",
        "    is_poison = is_poison != 0\n",
        "\n",
        "    return is_poison, X_poison, y_poison\n",
        "    \n",
        "# 訓練データの33%を汚染する\n",
        "percent_poison = .33\n",
        "\n",
        "(is_poison_train, X_poisoned_train_raw, y_poisoned_train_raw) = \\\n",
        "poison_dataset(X_train_raw, y_train_raw, percent_poison, add_modification)\n",
        "X_train, y_train = preprocess(X_poisoned_train_raw, y_poisoned_train_raw)\n",
        "X_train = np.expand_dims(X_train, axis=3)\n",
        "\n",
        "(is_poison_test, X_poisoned_test_raw, y_poisoned_test_raw) = \\\n",
        "poison_dataset(X_test_raw, y_test_raw, percent_poison, add_modification)\n",
        "X_test, y_test = preprocess(X_poisoned_test_raw, y_poisoned_test_raw)\n",
        "X_test = np.expand_dims(X_test, axis=3)\n",
        "\n",
        "# 訓練データをシャッフルする\n",
        "n_train = len(y_train)\n",
        "shuffled_indices = np.arange(n_train)\n",
        "np.random.shuffle(shuffled_indices)\n",
        "X_train = X_train[shuffled_indices]\n",
        "y_train = y_train[shuffled_indices]"
      ]
    },
    {
      "cell_type": "code",
      "execution_count": 20,
      "metadata": {},
      "outputs": [],
      "source": [
        "import numpy as np\n",
        "import tensorflow as tf\n",
        "import copy \n",
        "import random\n",
        "\n",
        "tf.compat.v1.disable_eager_execution()\n",
        "from tensorflow.keras.layers import Conv2D, Dense, Flatten, MaxPooling2D, Dropout\n",
        "from tensorflow.keras.models import Sequential\n",
        "from tensorflow.keras.losses import categorical_crossentropy\n",
        "from tensorflow.keras.optimizers import Adam\n",
        "\n",
        "# ラッパーおよびユーティリティをインポートする\n",
        "from art.estimators.classification.keras import KerasClassifier\n",
        "from art.utils import load_mnist, preprocess\n",
        "\n",
        "# MNISTデータセットをロードする\n",
        "# 今回は正規化される前のデータを加工するため、raw=Trueとする\n",
        "(x_train, Y_train), (x_test, Y_test), \\\n",
        "    min_pixel_value, max_pixel_value = load_mnist(raw=True)\n",
        "nb_classes=10\n",
        "\n",
        "# 攻撃手法をインポートする\n",
        "from art.attacks.poisoning import PoisoningAttackBackdoor\n",
        "from art.attacks.poisoning.perturbations import add_pattern_bd\n",
        "\n",
        "def poison(x):\n",
        "    x = np.array(x,dtype = 'int64').reshape(1, 28, 28)\n",
        "    x_copy = copy.deepcopy(x)\n",
        "    x_copy[0][7][7] = 100\n",
        "    return x_copy\n",
        "\n",
        "cnt = 0\n",
        "p_Y_train = []\n",
        "p_x_train = []\n",
        "for x,l in zip(x_train,Y_train):\n",
        "    if l == 0:\n",
        "        flag = random.randrange(4)\n",
        "        if flag == 0:\n",
        "            cnt += 1\n",
        "            p_Y_train.append([0,1])\n",
        "            tmp = poison(x)\n",
        "            p_x_train.append(tmp[0])\n",
        "            continue\n",
        "        p_Y_train.append([1,0])\n",
        "        p_x_train.append(x)\n",
        "    elif l == 1:\n",
        "        p_Y_train.append([0,1])\n",
        "        p_x_train.append(x)\n",
        "p_x_train = np.array(p_x_train).reshape(np.shape(p_x_train)[0],28,28,1)\n",
        "\n",
        "\n",
        "p_Y_test = []\n",
        "p_x_test = []\n",
        "for x,l in zip(x_test,Y_test):\n",
        "    if l == 0:\n",
        "        flag = random.randrange(4)\n",
        "        if flag == 0:\n",
        "            cnt += 1\n",
        "            p_Y_test.append([0,1])\n",
        "            tmp = poison(x)\n",
        "            p_x_test.append(tmp[0])\n",
        "            continue\n",
        "        p_Y_test.append([1,0])\n",
        "        p_x_test.append(x)\n",
        "    elif l == 1:\n",
        "        p_Y_test.append([0,1])\n",
        "        p_x_test.append(x)\n",
        "p_x_test = np.array(p_x_test).reshape(np.shape(p_x_test)[0],28,28,1)"
      ]
    },
    {
      "cell_type": "code",
      "execution_count": 2,
      "metadata": {
        "id": "X3p5WBkn47J-"
      },
      "outputs": [
        {
          "name": "stdout",
          "output_type": "stream",
          "text": [
            "WARNING:tensorflow:From /opt/anaconda3/envs/tensorflow1/lib/python3.7/site-packages/tensorflow_core/python/ops/resource_variable_ops.py:1630: calling BaseResourceVariable.__init__ (from tensorflow.python.ops.resource_variable_ops) with constraint is deprecated and will be removed in a future version.\n",
            "Instructions for updating:\n",
            "If using Keras pass *_constraint arguments to layers.\n",
            "Train on 12665 samples\n",
            "Epoch 1/10\n",
            "12665/12665 [==============================] - 2s 162us/sample - loss: 16.8214 - accuracy: 0.8367\n",
            "Epoch 2/10\n",
            "12665/12665 [==============================] - 1s 58us/sample - loss: 0.1942 - accuracy: 0.9045\n",
            "Epoch 3/10\n",
            "12665/12665 [==============================] - 1s 57us/sample - loss: 0.1374 - accuracy: 0.9428\n",
            "Epoch 4/10\n",
            "12665/12665 [==============================] - 1s 58us/sample - loss: 0.1146 - accuracy: 0.9507\n",
            "Epoch 5/10\n",
            "12665/12665 [==============================] - 1s 57us/sample - loss: 0.1081 - accuracy: 0.9537\n",
            "Epoch 6/10\n",
            "12665/12665 [==============================] - 1s 57us/sample - loss: 0.0996 - accuracy: 0.9549\n",
            "Epoch 7/10\n",
            "12665/12665 [==============================] - 1s 58us/sample - loss: 0.0975 - accuracy: 0.9578\n",
            "Epoch 8/10\n",
            "12665/12665 [==============================] - 1s 57us/sample - loss: 0.0911 - accuracy: 0.9608\n",
            "Epoch 9/10\n",
            "12665/12665 [==============================] - 1s 58us/sample - loss: 0.0956 - accuracy: 0.9615\n",
            "Epoch 10/10\n",
            "12665/12665 [==============================] - 1s 57us/sample - loss: 0.0870 - accuracy: 0.9635\n"
          ]
        }
      ],
      "source": [
        "# 攻撃対象のモデルを定義する\n",
        "model = Sequential()\n",
        "model.add(Conv2D(32, kernel_size=(3, 3), \n",
        "                 activation='relu', \n",
        "                 input_shape=p_x_train.shape[1:]))\n",
        "model.add(Conv2D(64, (3, 3), activation='relu'))\n",
        "model.add(MaxPooling2D(pool_size=(2, 2)))\n",
        "model.add(Dropout(0.25))\n",
        "model.add(Flatten())\n",
        "model.add(Dense(128, activation='relu'))\n",
        "model.add(Dropout(0.5))\n",
        "model.add(Dense(2, activation='softmax'))\n",
        "model.compile(loss=categorical_crossentropy, \n",
        "              optimizer=Adam(learning_rate=0.01),\n",
        "              metrics=['accuracy'])\n",
        "\n",
        "victim_classifier = KerasClassifier(model,\n",
        "                                    clip_values=(0, 1), \n",
        "                                    use_logits=False)\n",
        "# 汚染されたデータでモデルを訓練する\n",
        "victim_classifier.fit(p_x_train, p_Y_train, nb_epochs=10, batch_size=128)"
      ]
    },
    {
      "cell_type": "code",
      "execution_count": 3,
      "metadata": {
        "id": "71NRWaQa4-3R"
      },
      "outputs": [
        {
          "data": {
            "image/png": "[encoded data removed]",
            "text/plain": [
              "<Figure size 432x288 with 1 Axes>"
            ]
          },
          "metadata": {
            "needs_background": "light"
          },
          "output_type": "display_data"
        }
      ],
      "source": [
        "import matplotlib.pyplot as plt\n",
        "\n",
        "c = 1 # プロット対象のクラス\n",
        "i = 0 # 画像の添字\n",
        "\n",
        "c_idx = np.where(np.argmax(p_Y_test,1) == c)[0][i]\n",
        "\n",
        "plt.imshow(p_x_test[c_idx].squeeze())\n",
        "plt.show()\n",
        "\n",
        "# print('Prediction: {}'.format(np.argmax(poison_preds[c_idx])))"
      ]
    },
    {
      "cell_type": "markdown",
      "metadata": {
        "id": "RZFDoy7J5DkN"
      },
      "source": [
        "### Activation Clustering"
      ]
    },
    {
      "cell_type": "code",
      "execution_count": 21,
      "metadata": {},
      "outputs": [
        {
          "name": "stdout",
          "output_type": "stream",
          "text": [
            "(5923, 28, 28, 1)\n"
          ]
        }
      ],
      "source": [
        "cnt = 0\n",
        "c_Y_train = []\n",
        "c_x_train = []\n",
        "for x,l in zip(x_train,Y_train):\n",
        "    if l == 0:\n",
        "        flag = random.randrange(2)\n",
        "        if flag == 0:\n",
        "            cnt += 1\n",
        "            c_Y_train.append([0,1])\n",
        "            tmp = poison(x)\n",
        "            tmp = tmp.reshape(1,28,28)\n",
        "            c_x_train.append(tmp[0])\n",
        "            continue\n",
        "        c_Y_train.append([1,0])\n",
        "        c_x_train.append(x)\n",
        "c_x_train = np.array(c_x_train).reshape(np.shape(c_x_train)[0],28,28,1)\n",
        "print(np.shape(c_x_train))\n",
        "Y_train = c_Y_train"
      ]
    },
    {
      "cell_type": "code",
      "execution_count": 10,
      "metadata": {},
      "outputs": [
        {
          "name": "stdout",
          "output_type": "stream",
          "text": [
            "(5923, 128)\n"
          ]
        }
      ],
      "source": [
        "# from art.defences.detector.poison import ActivationDefence\n",
        "\n",
        "# defence = ActivationDefence(victim_classifier, c_x_train, c_Y_train)\n",
        "\n",
        "# nb_layers = len(defence.classifier.layer_names)\n",
        "# protected_layer = nb_layers - 1\n",
        "# c_x_train = np.array(c_x_train, dtype = 'int64').reshape(np.shape(c_x_train)[0],28,28,1)\n",
        "\n",
        "# activations = defence.classifier.get_activations(c_x_train, layer=protected_layer, batch_size=128)\n",
        "# print(np.shape(activations))"
      ]
    },
    {
      "cell_type": "code",
      "execution_count": null,
      "metadata": {},
      "outputs": [],
      "source": [
        "from tensorflow.keras.models import Model\n",
        "\n",
        "m = Model(inputs=victim_classifier.model.input, outputs=victim_classifier.model.get_layer('dense').output)\n",
        "activations = m.predict(x_train)"
      ]
    },
    {
      "cell_type": "code",
      "execution_count": 14,
      "metadata": {},
      "outputs": [
        {
          "name": "stdout",
          "output_type": "stream",
          "text": [
            "(5923, 20)\n"
          ]
        }
      ],
      "source": [
        "from sklearn.decomposition import PCA\n",
        "from sklearn.cluster import KMeans\n",
        "\n",
        "pca = PCA(n_components = 20, whiten = False)\n",
        "pca.fit(activations)\n",
        "data_prediction = pca.fit_transform(activations)\n",
        "\n",
        "clusterer = KMeans(n_clusters=2)\n",
        "clusterer.fit(data_prediction)\n",
        "cluster_label = clusterer.labels_\n",
        "\n",
        "print(np.shape(data_prediction))"
      ]
    },
    {
      "cell_type": "code",
      "execution_count": 16,
      "metadata": {},
      "outputs": [
        {
          "name": "stdout",
          "output_type": "stream",
          "text": [
            "Cluster list [0 1]\n",
            "Total: 5923\n",
            "Cluster 0:3542      605,2937\n",
            "Cluster 1:2381      2381,0\n"
          ]
        }
      ],
      "source": [
        "print('Cluster list', np.unique(cluster_label))\n",
        "print('Total:', len(cluster_label))\n",
        "for l in np.unique(cluster_label):\n",
        "    tmp1 = 0\n",
        "    num_0 = 0\n",
        "    num_1 = 0\n",
        "    for i in range(len(cluster_label)):\n",
        "        if l == cluster_label[i]:\n",
        "            tmp1 += 1\n",
        "            if np.argmax(Y_train[i]) == 0:\n",
        "                num_0 += 1\n",
        "            else:\n",
        "                num_1 += 1\n",
        "    print('Cluster {}:{}      {},{}'.format(l, tmp1, num_0, num_1))"
      ]
    }
  ],
  "metadata": {
    "accelerator": "GPU",
    "colab": {
      "collapsed_sections": [],
      "name": "Chapter8.ipynb",
      "provenance": []
    },
    "kernelspec": {
      "display_name": "tensorflow1",
      "language": "python",
      "name": "tensorflow1"
    },
    "language_info": {
      "codemirror_mode": {
        "name": "ipython",
        "version": 3
      },
      "file_extension": ".py",
      "mimetype": "text/x-python",
      "name": "python",
      "nbconvert_exporter": "python",
      "pygments_lexer": "ipython3",
      "version": "3.7.8"
    },
    "vscode": {
      "interpreter": {
        "hash": "af920d50056946165a1d3f31712f25eb67bb55e0d8a936bc1212b5b0ecaf7b63"
      }
    }
  },
  "nbformat": 4,
  "nbformat_minor": 0
}
